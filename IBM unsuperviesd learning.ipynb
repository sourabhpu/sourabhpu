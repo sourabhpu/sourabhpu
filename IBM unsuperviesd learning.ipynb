{
 "cells": [
  {
   "cell_type": "code",
   "execution_count": 1,
   "id": "f13f6b81",
   "metadata": {},
   "outputs": [],
   "source": [
    "#UNsupervised\n",
    "#K- MEAN clustring\n",
    "#association"
   ]
  },
  {
   "cell_type": "code",
   "execution_count": 2,
   "id": "6feaa6ec",
   "metadata": {},
   "outputs": [],
   "source": [
    "#import library\n",
    "import pandas as pd\n",
    "import numpy as np\n",
    "import matplotlib.pyplot as plt\n",
    "import seaborn as sns"
   ]
  },
  {
   "cell_type": "code",
   "execution_count": 3,
   "id": "e30b4de6",
   "metadata": {},
   "outputs": [
    {
     "data": {
      "text/html": [
       "<div>\n",
       "<style scoped>\n",
       "    .dataframe tbody tr th:only-of-type {\n",
       "        vertical-align: middle;\n",
       "    }\n",
       "\n",
       "    .dataframe tbody tr th {\n",
       "        vertical-align: top;\n",
       "    }\n",
       "\n",
       "    .dataframe thead th {\n",
       "        text-align: right;\n",
       "    }\n",
       "</style>\n",
       "<table border=\"1\" class=\"dataframe\">\n",
       "  <thead>\n",
       "    <tr style=\"text-align: right;\">\n",
       "      <th></th>\n",
       "      <th>Unnamed: 0</th>\n",
       "      <th>item</th>\n",
       "      <th>servesize</th>\n",
       "      <th>calories</th>\n",
       "      <th>protien</th>\n",
       "      <th>totalfat</th>\n",
       "      <th>satfat</th>\n",
       "      <th>transfat</th>\n",
       "      <th>cholestrol</th>\n",
       "      <th>carbs</th>\n",
       "      <th>sugar</th>\n",
       "      <th>addedsugar</th>\n",
       "      <th>sodium</th>\n",
       "      <th>menu</th>\n",
       "    </tr>\n",
       "  </thead>\n",
       "  <tbody>\n",
       "    <tr>\n",
       "      <th>0</th>\n",
       "      <td>0</td>\n",
       "      <td>McVeggie Burger</td>\n",
       "      <td>168</td>\n",
       "      <td>402</td>\n",
       "      <td>10.24</td>\n",
       "      <td>13.83</td>\n",
       "      <td>5.34</td>\n",
       "      <td>0.16</td>\n",
       "      <td>2.49</td>\n",
       "      <td>56.54</td>\n",
       "      <td>7.90</td>\n",
       "      <td>4.49</td>\n",
       "      <td>706.13</td>\n",
       "      <td>regular</td>\n",
       "    </tr>\n",
       "    <tr>\n",
       "      <th>1</th>\n",
       "      <td>1</td>\n",
       "      <td>McAloo Tikki Burger</td>\n",
       "      <td>146</td>\n",
       "      <td>339</td>\n",
       "      <td>8.50</td>\n",
       "      <td>11.31</td>\n",
       "      <td>4.27</td>\n",
       "      <td>0.20</td>\n",
       "      <td>1.47</td>\n",
       "      <td>5.27</td>\n",
       "      <td>7.05</td>\n",
       "      <td>4.07</td>\n",
       "      <td>545.34</td>\n",
       "      <td>regular</td>\n",
       "    </tr>\n",
       "    <tr>\n",
       "      <th>2</th>\n",
       "      <td>2</td>\n",
       "      <td>McSpicy Paneer Burger</td>\n",
       "      <td>199</td>\n",
       "      <td>652</td>\n",
       "      <td>20.29</td>\n",
       "      <td>39.45</td>\n",
       "      <td>17.12</td>\n",
       "      <td>0.18</td>\n",
       "      <td>21.85</td>\n",
       "      <td>52.33</td>\n",
       "      <td>8.35</td>\n",
       "      <td>5.27</td>\n",
       "      <td>1074.58</td>\n",
       "      <td>regular</td>\n",
       "    </tr>\n",
       "    <tr>\n",
       "      <th>3</th>\n",
       "      <td>3</td>\n",
       "      <td>Spicy Paneer Wrap</td>\n",
       "      <td>250</td>\n",
       "      <td>674</td>\n",
       "      <td>20.96</td>\n",
       "      <td>39.10</td>\n",
       "      <td>19.73</td>\n",
       "      <td>0.26</td>\n",
       "      <td>40.93</td>\n",
       "      <td>59.27</td>\n",
       "      <td>3.50</td>\n",
       "      <td>1.08</td>\n",
       "      <td>1087.46</td>\n",
       "      <td>regular</td>\n",
       "    </tr>\n",
       "    <tr>\n",
       "      <th>4</th>\n",
       "      <td>4</td>\n",
       "      <td>American Veg Burger</td>\n",
       "      <td>177</td>\n",
       "      <td>512</td>\n",
       "      <td>15.30</td>\n",
       "      <td>23.45</td>\n",
       "      <td>10.51</td>\n",
       "      <td>0.17</td>\n",
       "      <td>25.24</td>\n",
       "      <td>56.96</td>\n",
       "      <td>7.85</td>\n",
       "      <td>4.76</td>\n",
       "      <td>1051.24</td>\n",
       "      <td>regular</td>\n",
       "    </tr>\n",
       "    <tr>\n",
       "      <th>...</th>\n",
       "      <td>...</td>\n",
       "      <td>...</td>\n",
       "      <td>...</td>\n",
       "      <td>...</td>\n",
       "      <td>...</td>\n",
       "      <td>...</td>\n",
       "      <td>...</td>\n",
       "      <td>...</td>\n",
       "      <td>...</td>\n",
       "      <td>...</td>\n",
       "      <td>...</td>\n",
       "      <td>...</td>\n",
       "      <td>...</td>\n",
       "      <td>...</td>\n",
       "    </tr>\n",
       "    <tr>\n",
       "      <th>136</th>\n",
       "      <td>136</td>\n",
       "      <td>Tomato Ketchup Sachets</td>\n",
       "      <td>8</td>\n",
       "      <td>11.23</td>\n",
       "      <td>0.08</td>\n",
       "      <td>23.45</td>\n",
       "      <td>0.38</td>\n",
       "      <td>0.25</td>\n",
       "      <td>0.08</td>\n",
       "      <td>2.63</td>\n",
       "      <td>2.33</td>\n",
       "      <td>1.64</td>\n",
       "      <td>414.71</td>\n",
       "      <td>condiments</td>\n",
       "    </tr>\n",
       "    <tr>\n",
       "      <th>137</th>\n",
       "      <td>137</td>\n",
       "      <td>Maple Syrup</td>\n",
       "      <td>3</td>\n",
       "      <td>86.4</td>\n",
       "      <td>0.00</td>\n",
       "      <td>0.00</td>\n",
       "      <td>0.00</td>\n",
       "      <td>0.40</td>\n",
       "      <td>0.30</td>\n",
       "      <td>21.60</td>\n",
       "      <td>16.20</td>\n",
       "      <td>5.34</td>\n",
       "      <td>71.05</td>\n",
       "      <td>condiments</td>\n",
       "    </tr>\n",
       "    <tr>\n",
       "      <th>138</th>\n",
       "      <td>138</td>\n",
       "      <td>Cheese Slice</td>\n",
       "      <td>14</td>\n",
       "      <td>51.03</td>\n",
       "      <td>3.06</td>\n",
       "      <td>3.99</td>\n",
       "      <td>0.00</td>\n",
       "      <td>0.00</td>\n",
       "      <td>13.43</td>\n",
       "      <td>0.72</td>\n",
       "      <td>0.54</td>\n",
       "      <td>0.00</td>\n",
       "      <td>15.00</td>\n",
       "      <td>condiments</td>\n",
       "    </tr>\n",
       "    <tr>\n",
       "      <th>139</th>\n",
       "      <td>139</td>\n",
       "      <td>Sweet Corn</td>\n",
       "      <td>40</td>\n",
       "      <td>45.08</td>\n",
       "      <td>1.47</td>\n",
       "      <td>1.00</td>\n",
       "      <td>2.89</td>\n",
       "      <td>0.01</td>\n",
       "      <td>2.00</td>\n",
       "      <td>7.55</td>\n",
       "      <td>2.54</td>\n",
       "      <td>0.00</td>\n",
       "      <td>178.95</td>\n",
       "      <td>condiments</td>\n",
       "    </tr>\n",
       "    <tr>\n",
       "      <th>140</th>\n",
       "      <td>140</td>\n",
       "      <td>Mixed Fruit Beverage</td>\n",
       "      <td>180</td>\n",
       "      <td>72.25</td>\n",
       "      <td>0.65</td>\n",
       "      <td>0.02</td>\n",
       "      <td>0.22</td>\n",
       "      <td>0.04</td>\n",
       "      <td>0.01</td>\n",
       "      <td>18.00</td>\n",
       "      <td>16.83</td>\n",
       "      <td>0.00</td>\n",
       "      <td>0.04</td>\n",
       "      <td>condiments</td>\n",
       "    </tr>\n",
       "  </tbody>\n",
       "</table>\n",
       "<p>141 rows × 14 columns</p>\n",
       "</div>"
      ],
      "text/plain": [
       "     Unnamed: 0                    item servesize calories  protien  totalfat  \\\n",
       "0             0         McVeggie Burger      168       402    10.24     13.83   \n",
       "1             1     McAloo Tikki Burger      146       339     8.50     11.31   \n",
       "2             2  McSpicy Paneer Burger      199       652    20.29     39.45   \n",
       "3             3       Spicy Paneer Wrap      250       674    20.96     39.10   \n",
       "4             4     American Veg Burger      177       512    15.30     23.45   \n",
       "..          ...                     ...       ...      ...      ...       ...   \n",
       "136         136  Tomato Ketchup Sachets         8    11.23     0.08     23.45   \n",
       "137         137             Maple Syrup         3     86.4     0.00      0.00   \n",
       "138         138            Cheese Slice        14    51.03     3.06      3.99   \n",
       "139         139              Sweet Corn        40    45.08     1.47      1.00   \n",
       "140         140    Mixed Fruit Beverage       180    72.25     0.65      0.02   \n",
       "\n",
       "     satfat  transfat  cholestrol  carbs  sugar  addedsugar   sodium  \\\n",
       "0      5.34      0.16        2.49  56.54   7.90        4.49   706.13   \n",
       "1      4.27      0.20        1.47   5.27   7.05        4.07   545.34   \n",
       "2     17.12      0.18       21.85  52.33   8.35        5.27  1074.58   \n",
       "3     19.73      0.26       40.93  59.27   3.50        1.08  1087.46   \n",
       "4     10.51      0.17       25.24  56.96   7.85        4.76  1051.24   \n",
       "..      ...       ...         ...    ...    ...         ...      ...   \n",
       "136    0.38      0.25        0.08   2.63   2.33        1.64   414.71   \n",
       "137    0.00      0.40        0.30  21.60  16.20        5.34    71.05   \n",
       "138    0.00      0.00       13.43   0.72   0.54        0.00    15.00   \n",
       "139    2.89      0.01        2.00   7.55   2.54        0.00   178.95   \n",
       "140    0.22      0.04        0.01  18.00  16.83        0.00     0.04   \n",
       "\n",
       "           menu  \n",
       "0       regular  \n",
       "1       regular  \n",
       "2       regular  \n",
       "3       regular  \n",
       "4       regular  \n",
       "..          ...  \n",
       "136  condiments  \n",
       "137  condiments  \n",
       "138  condiments  \n",
       "139  condiments  \n",
       "140  condiments  \n",
       "\n",
       "[141 rows x 14 columns]"
      ]
     },
     "execution_count": 3,
     "metadata": {},
     "output_type": "execute_result"
    }
   ],
   "source": [
    "#read dataset\n",
    "import pandas as pd\n",
    "df = pd.read_csv(\"C:\\\\Users\\\\ACER\\\\OneDrive\\\\Desktop\\\\mcdonalde\\\\mcdonaldata.csv\")\n",
    "df"
   ]
  },
  {
   "cell_type": "code",
   "execution_count": 4,
   "id": "708473e1",
   "metadata": {},
   "outputs": [
    {
     "data": {
      "text/plain": [
       "(   Unnamed: 0                 item servesize calories  protien  totalfat  \\\n",
       " 0           0      McVeggie Burger      168       402    10.24     13.83   \n",
       " 1           1  McAloo Tikki Burger      146       339     8.50     11.31   \n",
       " \n",
       "    satfat  transfat  cholestrol  carbs  sugar  addedsugar  sodium     menu  \n",
       " 0    5.34      0.16        2.49  56.54   7.90        4.49  706.13  regular  \n",
       " 1    4.27      0.20        1.47   5.27   7.05        4.07  545.34  regular  ,\n",
       " mccafe        48\n",
       " regular       36\n",
       " beverage      17\n",
       " dessert       12\n",
       " gourmet       11\n",
       " condiments     9\n",
       " breakfast      8\n",
       " Name: menu, dtype: int64)"
      ]
     },
     "execution_count": 4,
     "metadata": {},
     "output_type": "execute_result"
    }
   ],
   "source": [
    "df.head(2),df['menu'].value_counts()"
   ]
  },
  {
   "cell_type": "code",
   "execution_count": 5,
   "id": "62592a1a",
   "metadata": {},
   "outputs": [
    {
     "name": "stdout",
     "output_type": "stream",
     "text": [
      "[[0 'McVeggie Burger' '168\\xa0' '402' 10.24 13.83 5.34 0.16 2.49 56.54\n",
      "  7.9 4.49 706.13 'regular']\n",
      " [1 'McAloo Tikki Burger' '146\\xa0' '339' 8.5 11.31 4.27 0.2 1.47 5.27\n",
      "  7.05 4.07 545.34 'regular']\n",
      " [2 'McSpicy\\x99 Paneer Burger' '199\\xa0' '652' 20.29 39.45 17.12 0.18\n",
      "  21.85 52.33 8.35 5.27 1074.58 'regular']\n",
      " [3 'Spicy Paneer Wrap' '250\\xa0' '674' 20.96 39.1 19.73 0.26 40.93 59.27\n",
      "  3.5 1.08 1087.46 'regular']\n",
      " [4 'American Veg Burger' '177\\xa0' '512' 15.3 23.45 10.51 0.17 25.24\n",
      "  56.96 7.85 4.76 1051.24 'regular']]\n"
     ]
    }
   ],
   "source": [
    "#dataframe convert into numpy array\n",
    "dfkm=df.values\n",
    "print(dfkm[:5])"
   ]
  },
  {
   "cell_type": "code",
   "execution_count": 6,
   "id": "3781e0d4",
   "metadata": {},
   "outputs": [
    {
     "name": "stdout",
     "output_type": "stream",
     "text": [
      "<class 'pandas.core.frame.DataFrame'>\n",
      "RangeIndex: 141 entries, 0 to 140\n",
      "Data columns (total 14 columns):\n",
      " #   Column      Non-Null Count  Dtype  \n",
      "---  ------      --------------  -----  \n",
      " 0   Unnamed: 0  141 non-null    int64  \n",
      " 1   item        141 non-null    object \n",
      " 2   servesize   141 non-null    object \n",
      " 3   calories    141 non-null    object \n",
      " 4   protien     141 non-null    float64\n",
      " 5   totalfat    141 non-null    float64\n",
      " 6   satfat      141 non-null    float64\n",
      " 7   transfat    141 non-null    float64\n",
      " 8   cholestrol  141 non-null    float64\n",
      " 9   carbs       141 non-null    float64\n",
      " 10  sugar       141 non-null    float64\n",
      " 11  addedsugar  141 non-null    float64\n",
      " 12  sodium      141 non-null    float64\n",
      " 13  menu        141 non-null    object \n",
      "dtypes: float64(9), int64(1), object(4)\n",
      "memory usage: 15.5+ KB\n"
     ]
    }
   ],
   "source": [
    "df.info()"
   ]
  },
  {
   "cell_type": "code",
   "execution_count": 7,
   "id": "d1cdfc30",
   "metadata": {},
   "outputs": [
    {
     "data": {
      "text/plain": [
       "(array([[10.24, 13.83, 5.34, 0.16, 2.49],\n",
       "        [8.5, 11.31, 4.27, 0.2, 1.47],\n",
       "        [20.29, 39.45, 17.12, 0.18, 21.85]], dtype=object),\n",
       " array(['regular', 'regular', 'regular'], dtype=object))"
      ]
     },
     "execution_count": 7,
     "metadata": {},
     "output_type": "execute_result"
    }
   ],
   "source": [
    "x= dfkm[:,4:9]#feature\n",
    "y=dfkm[:,-1]#target\n",
    "x[:3],y[:3]"
   ]
  },
  {
   "cell_type": "code",
   "execution_count": 8,
   "id": "0742fc85",
   "metadata": {},
   "outputs": [
    {
     "data": {
      "text/plain": [
       "sklearn.cluster._kmeans.KMeans"
      ]
     },
     "execution_count": 8,
     "metadata": {},
     "output_type": "execute_result"
    }
   ],
   "source": [
    "#K- MEAN clustring\n",
    "from sklearn import cluster\n",
    "cluster.KMeans"
   ]
  },
  {
   "cell_type": "code",
   "execution_count": 9,
   "id": "6b4c9b28",
   "metadata": {
    "scrolled": false
   },
   "outputs": [
    {
     "name": "stderr",
     "output_type": "stream",
     "text": [
      "C:\\ProgramData\\anaconda3\\lib\\site-packages\\sklearn\\cluster\\_kmeans.py:870: FutureWarning: The default value of `n_init` will change from 10 to 'auto' in 1.4. Set the value of `n_init` explicitly to suppress the warning\n",
      "  warnings.warn(\n",
      "C:\\ProgramData\\anaconda3\\lib\\site-packages\\sklearn\\cluster\\_kmeans.py:1382: UserWarning: KMeans is known to have a memory leak on Windows with MKL, when there are less chunks than available threads. You can avoid it by setting the environment variable OMP_NUM_THREADS=1.\n",
      "  warnings.warn(\n",
      "C:\\ProgramData\\anaconda3\\lib\\site-packages\\sklearn\\cluster\\_kmeans.py:870: FutureWarning: The default value of `n_init` will change from 10 to 'auto' in 1.4. Set the value of `n_init` explicitly to suppress the warning\n",
      "  warnings.warn(\n",
      "C:\\ProgramData\\anaconda3\\lib\\site-packages\\sklearn\\cluster\\_kmeans.py:1382: UserWarning: KMeans is known to have a memory leak on Windows with MKL, when there are less chunks than available threads. You can avoid it by setting the environment variable OMP_NUM_THREADS=1.\n",
      "  warnings.warn(\n",
      "C:\\ProgramData\\anaconda3\\lib\\site-packages\\sklearn\\cluster\\_kmeans.py:870: FutureWarning: The default value of `n_init` will change from 10 to 'auto' in 1.4. Set the value of `n_init` explicitly to suppress the warning\n",
      "  warnings.warn(\n",
      "C:\\ProgramData\\anaconda3\\lib\\site-packages\\sklearn\\cluster\\_kmeans.py:1382: UserWarning: KMeans is known to have a memory leak on Windows with MKL, when there are less chunks than available threads. You can avoid it by setting the environment variable OMP_NUM_THREADS=1.\n",
      "  warnings.warn(\n",
      "C:\\ProgramData\\anaconda3\\lib\\site-packages\\sklearn\\cluster\\_kmeans.py:870: FutureWarning: The default value of `n_init` will change from 10 to 'auto' in 1.4. Set the value of `n_init` explicitly to suppress the warning\n",
      "  warnings.warn(\n",
      "C:\\ProgramData\\anaconda3\\lib\\site-packages\\sklearn\\cluster\\_kmeans.py:1382: UserWarning: KMeans is known to have a memory leak on Windows with MKL, when there are less chunks than available threads. You can avoid it by setting the environment variable OMP_NUM_THREADS=1.\n",
      "  warnings.warn(\n",
      "C:\\ProgramData\\anaconda3\\lib\\site-packages\\sklearn\\cluster\\_kmeans.py:870: FutureWarning: The default value of `n_init` will change from 10 to 'auto' in 1.4. Set the value of `n_init` explicitly to suppress the warning\n",
      "  warnings.warn(\n",
      "C:\\ProgramData\\anaconda3\\lib\\site-packages\\sklearn\\cluster\\_kmeans.py:1382: UserWarning: KMeans is known to have a memory leak on Windows with MKL, when there are less chunks than available threads. You can avoid it by setting the environment variable OMP_NUM_THREADS=1.\n",
      "  warnings.warn(\n",
      "C:\\ProgramData\\anaconda3\\lib\\site-packages\\sklearn\\cluster\\_kmeans.py:870: FutureWarning: The default value of `n_init` will change from 10 to 'auto' in 1.4. Set the value of `n_init` explicitly to suppress the warning\n",
      "  warnings.warn(\n",
      "C:\\ProgramData\\anaconda3\\lib\\site-packages\\sklearn\\cluster\\_kmeans.py:1382: UserWarning: KMeans is known to have a memory leak on Windows with MKL, when there are less chunks than available threads. You can avoid it by setting the environment variable OMP_NUM_THREADS=1.\n",
      "  warnings.warn(\n",
      "C:\\ProgramData\\anaconda3\\lib\\site-packages\\sklearn\\cluster\\_kmeans.py:870: FutureWarning: The default value of `n_init` will change from 10 to 'auto' in 1.4. Set the value of `n_init` explicitly to suppress the warning\n",
      "  warnings.warn(\n",
      "C:\\ProgramData\\anaconda3\\lib\\site-packages\\sklearn\\cluster\\_kmeans.py:1382: UserWarning: KMeans is known to have a memory leak on Windows with MKL, when there are less chunks than available threads. You can avoid it by setting the environment variable OMP_NUM_THREADS=1.\n",
      "  warnings.warn(\n",
      "C:\\ProgramData\\anaconda3\\lib\\site-packages\\sklearn\\cluster\\_kmeans.py:870: FutureWarning: The default value of `n_init` will change from 10 to 'auto' in 1.4. Set the value of `n_init` explicitly to suppress the warning\n",
      "  warnings.warn(\n",
      "C:\\ProgramData\\anaconda3\\lib\\site-packages\\sklearn\\cluster\\_kmeans.py:1382: UserWarning: KMeans is known to have a memory leak on Windows with MKL, when there are less chunks than available threads. You can avoid it by setting the environment variable OMP_NUM_THREADS=1.\n",
      "  warnings.warn(\n",
      "C:\\ProgramData\\anaconda3\\lib\\site-packages\\sklearn\\cluster\\_kmeans.py:870: FutureWarning: The default value of `n_init` will change from 10 to 'auto' in 1.4. Set the value of `n_init` explicitly to suppress the warning\n",
      "  warnings.warn(\n",
      "C:\\ProgramData\\anaconda3\\lib\\site-packages\\sklearn\\cluster\\_kmeans.py:1382: UserWarning: KMeans is known to have a memory leak on Windows with MKL, when there are less chunks than available threads. You can avoid it by setting the environment variable OMP_NUM_THREADS=1.\n",
      "  warnings.warn(\n",
      "C:\\ProgramData\\anaconda3\\lib\\site-packages\\sklearn\\cluster\\_kmeans.py:870: FutureWarning: The default value of `n_init` will change from 10 to 'auto' in 1.4. Set the value of `n_init` explicitly to suppress the warning\n",
      "  warnings.warn(\n",
      "C:\\ProgramData\\anaconda3\\lib\\site-packages\\sklearn\\cluster\\_kmeans.py:1382: UserWarning: KMeans is known to have a memory leak on Windows with MKL, when there are less chunks than available threads. You can avoid it by setting the environment variable OMP_NUM_THREADS=1.\n",
      "  warnings.warn(\n"
     ]
    },
    {
     "data": {
      "image/png": "[encoded data removed]",
      "text/plain": [
       "<Figure size 640x480 with 1 Axes>"
      ]
     },
     "metadata": {},
     "output_type": "display_data"
    },
    {
     "data": {
      "text/plain": [
       "[390725.4637503545,\n",
       " 103919.37390376299,\n",
       " 47628.60643860444,\n",
       " 33800.99040874576,\n",
       " 27481.087869924257,\n",
       " 20765.81020429709,\n",
       " 16616.969603549776,\n",
       " 12647.19079855553,\n",
       " 10439.944042214875,\n",
       " 9652.962951036325]"
      ]
     },
     "execution_count": 9,
     "metadata": {},
     "output_type": "execute_result"
    }
   ],
   "source": [
    "#defining cluster from elbow curve method\n",
    "import matplotlib.pyplot as plt\n",
    "l=[]\n",
    "for i in range (1,11):\n",
    "    km= cluster.KMeans(i)\n",
    "    km.fit (df.values[:,4:9])\n",
    "    l.append(km.inertia_)\n",
    "plt.plot(range(1,11),l[:10])\n",
    "plt.grid()\n",
    "plt.show()\n",
    "\n",
    "l"
   ]
  },
  {
   "cell_type": "code",
   "execution_count": 10,
   "id": "79ef3b67",
   "metadata": {},
   "outputs": [
    {
     "data": {
      "text/html": [
       "<style>#sk-container-id-1 {color: black;background-color: white;}#sk-container-id-1 pre{padding: 0;}#sk-container-id-1 div.sk-toggleable {background-color: white;}#sk-container-id-1 label.sk-toggleable__label {cursor: pointer;display: block;width: 100%;margin-bottom: 0;padding: 0.3em;box-sizing: border-box;text-align: center;}#sk-container-id-1 label.sk-toggleable__label-arrow:before {content: \"▸\";float: left;margin-right: 0.25em;color: #696969;}#sk-container-id-1 label.sk-toggleable__label-arrow:hover:before {color: black;}#sk-container-id-1 div.sk-estimator:hover label.sk-toggleable__label-arrow:before {color: black;}#sk-container-id-1 div.sk-toggleable__content {max-height: 0;max-width: 0;overflow: hidden;text-align: left;background-color: #f0f8ff;}#sk-container-id-1 div.sk-toggleable__content pre {margin: 0.2em;color: black;border-radius: 0.25em;background-color: #f0f8ff;}#sk-container-id-1 input.sk-toggleable__control:checked~div.sk-toggleable__content {max-height: 200px;max-width: 100%;overflow: auto;}#sk-container-id-1 input.sk-toggleable__control:checked~label.sk-toggleable__label-arrow:before {content: \"▾\";}#sk-container-id-1 div.sk-estimator input.sk-toggleable__control:checked~label.sk-toggleable__label {background-color: #d4ebff;}#sk-container-id-1 div.sk-label input.sk-toggleable__control:checked~label.sk-toggleable__label {background-color: #d4ebff;}#sk-container-id-1 input.sk-hidden--visually {border: 0;clip: rect(1px 1px 1px 1px);clip: rect(1px, 1px, 1px, 1px);height: 1px;margin: -1px;overflow: hidden;padding: 0;position: absolute;width: 1px;}#sk-container-id-1 div.sk-estimator {font-family: monospace;background-color: #f0f8ff;border: 1px dotted black;border-radius: 0.25em;box-sizing: border-box;margin-bottom: 0.5em;}#sk-container-id-1 div.sk-estimator:hover {background-color: #d4ebff;}#sk-container-id-1 div.sk-parallel-item::after {content: \"\";width: 100%;border-bottom: 1px solid gray;flex-grow: 1;}#sk-container-id-1 div.sk-label:hover label.sk-toggleable__label {background-color: #d4ebff;}#sk-container-id-1 div.sk-serial::before {content: \"\";position: absolute;border-left: 1px solid gray;box-sizing: border-box;top: 0;bottom: 0;left: 50%;z-index: 0;}#sk-container-id-1 div.sk-serial {display: flex;flex-direction: column;align-items: center;background-color: white;padding-right: 0.2em;padding-left: 0.2em;position: relative;}#sk-container-id-1 div.sk-item {position: relative;z-index: 1;}#sk-container-id-1 div.sk-parallel {display: flex;align-items: stretch;justify-content: center;background-color: white;position: relative;}#sk-container-id-1 div.sk-item::before, #sk-container-id-1 div.sk-parallel-item::before {content: \"\";position: absolute;border-left: 1px solid gray;box-sizing: border-box;top: 0;bottom: 0;left: 50%;z-index: -1;}#sk-container-id-1 div.sk-parallel-item {display: flex;flex-direction: column;z-index: 1;position: relative;background-color: white;}#sk-container-id-1 div.sk-parallel-item:first-child::after {align-self: flex-end;width: 50%;}#sk-container-id-1 div.sk-parallel-item:last-child::after {align-self: flex-start;width: 50%;}#sk-container-id-1 div.sk-parallel-item:only-child::after {width: 0;}#sk-container-id-1 div.sk-dashed-wrapped {border: 1px dashed gray;margin: 0 0.4em 0.5em 0.4em;box-sizing: border-box;padding-bottom: 0.4em;background-color: white;}#sk-container-id-1 div.sk-label label {font-family: monospace;font-weight: bold;display: inline-block;line-height: 1.2em;}#sk-container-id-1 div.sk-label-container {text-align: center;}#sk-container-id-1 div.sk-container {/* jupyter's `normalize.less` sets `[hidden] { display: none; }` but bootstrap.min.css set `[hidden] { display: none !important; }` so we also need the `!important` here to be able to override the default hidden behavior on the sphinx rendered scikit-learn.org. See: https://github.com/scikit-learn/scikit-learn/issues/21755 */display: inline-block !important;position: relative;}#sk-container-id-1 div.sk-text-repr-fallback {display: none;}</style><div id=\"sk-container-id-1\" class=\"sk-top-container\"><div class=\"sk-text-repr-fallback\"><pre>KMeans(n_clusters=3)</pre><b>In a Jupyter environment, please rerun this cell to show the HTML representation or trust the notebook. <br />On GitHub, the HTML representation is unable to render, please try loading this page with nbviewer.org.</b></div><div class=\"sk-container\" hidden><div class=\"sk-item\"><div class=\"sk-estimator sk-toggleable\"><input class=\"sk-toggleable__control sk-hidden--visually\" id=\"sk-estimator-id-1\" type=\"checkbox\" checked><label for=\"sk-estimator-id-1\" class=\"sk-toggleable__label sk-toggleable__label-arrow\">KMeans</label><div class=\"sk-toggleable__content\"><pre>KMeans(n_clusters=3)</pre></div></div></div></div></div>"
      ],
      "text/plain": [
       "KMeans(n_clusters=3)"
      ]
     },
     "execution_count": 10,
     "metadata": {},
     "output_type": "execute_result"
    }
   ],
   "source": [
    "k_M=cluster.KMeans(n_clusters=3)\n",
    "k_M\n"
   ]
  },
  {
   "cell_type": "code",
   "execution_count": 11,
   "id": "1dcbf29d",
   "metadata": {},
   "outputs": [
    {
     "name": "stderr",
     "output_type": "stream",
     "text": [
      "C:\\ProgramData\\anaconda3\\lib\\site-packages\\sklearn\\cluster\\_kmeans.py:870: FutureWarning: The default value of `n_init` will change from 10 to 'auto' in 1.4. Set the value of `n_init` explicitly to suppress the warning\n",
      "  warnings.warn(\n",
      "C:\\ProgramData\\anaconda3\\lib\\site-packages\\sklearn\\cluster\\_kmeans.py:1382: UserWarning: KMeans is known to have a memory leak on Windows with MKL, when there are less chunks than available threads. You can avoid it by setting the environment variable OMP_NUM_THREADS=1.\n",
      "  warnings.warn(\n"
     ]
    },
    {
     "data": {
      "text/html": [
       "<style>#sk-container-id-2 {color: black;background-color: white;}#sk-container-id-2 pre{padding: 0;}#sk-container-id-2 div.sk-toggleable {background-color: white;}#sk-container-id-2 label.sk-toggleable__label {cursor: pointer;display: block;width: 100%;margin-bottom: 0;padding: 0.3em;box-sizing: border-box;text-align: center;}#sk-container-id-2 label.sk-toggleable__label-arrow:before {content: \"▸\";float: left;margin-right: 0.25em;color: #696969;}#sk-container-id-2 label.sk-toggleable__label-arrow:hover:before {color: black;}#sk-container-id-2 div.sk-estimator:hover label.sk-toggleable__label-arrow:before {color: black;}#sk-container-id-2 div.sk-toggleable__content {max-height: 0;max-width: 0;overflow: hidden;text-align: left;background-color: #f0f8ff;}#sk-container-id-2 div.sk-toggleable__content pre {margin: 0.2em;color: black;border-radius: 0.25em;background-color: #f0f8ff;}#sk-container-id-2 input.sk-toggleable__control:checked~div.sk-toggleable__content {max-height: 200px;max-width: 100%;overflow: auto;}#sk-container-id-2 input.sk-toggleable__control:checked~label.sk-toggleable__label-arrow:before {content: \"▾\";}#sk-container-id-2 div.sk-estimator input.sk-toggleable__control:checked~label.sk-toggleable__label {background-color: #d4ebff;}#sk-container-id-2 div.sk-label input.sk-toggleable__control:checked~label.sk-toggleable__label {background-color: #d4ebff;}#sk-container-id-2 input.sk-hidden--visually {border: 0;clip: rect(1px 1px 1px 1px);clip: rect(1px, 1px, 1px, 1px);height: 1px;margin: -1px;overflow: hidden;padding: 0;position: absolute;width: 1px;}#sk-container-id-2 div.sk-estimator {font-family: monospace;background-color: #f0f8ff;border: 1px dotted black;border-radius: 0.25em;box-sizing: border-box;margin-bottom: 0.5em;}#sk-container-id-2 div.sk-estimator:hover {background-color: #d4ebff;}#sk-container-id-2 div.sk-parallel-item::after {content: \"\";width: 100%;border-bottom: 1px solid gray;flex-grow: 1;}#sk-container-id-2 div.sk-label:hover label.sk-toggleable__label {background-color: #d4ebff;}#sk-container-id-2 div.sk-serial::before {content: \"\";position: absolute;border-left: 1px solid gray;box-sizing: border-box;top: 0;bottom: 0;left: 50%;z-index: 0;}#sk-container-id-2 div.sk-serial {display: flex;flex-direction: column;align-items: center;background-color: white;padding-right: 0.2em;padding-left: 0.2em;position: relative;}#sk-container-id-2 div.sk-item {position: relative;z-index: 1;}#sk-container-id-2 div.sk-parallel {display: flex;align-items: stretch;justify-content: center;background-color: white;position: relative;}#sk-container-id-2 div.sk-item::before, #sk-container-id-2 div.sk-parallel-item::before {content: \"\";position: absolute;border-left: 1px solid gray;box-sizing: border-box;top: 0;bottom: 0;left: 50%;z-index: -1;}#sk-container-id-2 div.sk-parallel-item {display: flex;flex-direction: column;z-index: 1;position: relative;background-color: white;}#sk-container-id-2 div.sk-parallel-item:first-child::after {align-self: flex-end;width: 50%;}#sk-container-id-2 div.sk-parallel-item:last-child::after {align-self: flex-start;width: 50%;}#sk-container-id-2 div.sk-parallel-item:only-child::after {width: 0;}#sk-container-id-2 div.sk-dashed-wrapped {border: 1px dashed gray;margin: 0 0.4em 0.5em 0.4em;box-sizing: border-box;padding-bottom: 0.4em;background-color: white;}#sk-container-id-2 div.sk-label label {font-family: monospace;font-weight: bold;display: inline-block;line-height: 1.2em;}#sk-container-id-2 div.sk-label-container {text-align: center;}#sk-container-id-2 div.sk-container {/* jupyter's `normalize.less` sets `[hidden] { display: none; }` but bootstrap.min.css set `[hidden] { display: none !important; }` so we also need the `!important` here to be able to override the default hidden behavior on the sphinx rendered scikit-learn.org. See: https://github.com/scikit-learn/scikit-learn/issues/21755 */display: inline-block !important;position: relative;}#sk-container-id-2 div.sk-text-repr-fallback {display: none;}</style><div id=\"sk-container-id-2\" class=\"sk-top-container\"><div class=\"sk-text-repr-fallback\"><pre>KMeans(n_clusters=3)</pre><b>In a Jupyter environment, please rerun this cell to show the HTML representation or trust the notebook. <br />On GitHub, the HTML representation is unable to render, please try loading this page with nbviewer.org.</b></div><div class=\"sk-container\" hidden><div class=\"sk-item\"><div class=\"sk-estimator sk-toggleable\"><input class=\"sk-toggleable__control sk-hidden--visually\" id=\"sk-estimator-id-2\" type=\"checkbox\" checked><label for=\"sk-estimator-id-2\" class=\"sk-toggleable__label sk-toggleable__label-arrow\">KMeans</label><div class=\"sk-toggleable__content\"><pre>KMeans(n_clusters=3)</pre></div></div></div></div></div>"
      ],
      "text/plain": [
       "KMeans(n_clusters=3)"
      ]
     },
     "execution_count": 11,
     "metadata": {},
     "output_type": "execute_result"
    }
   ],
   "source": [
    "k_m=k_M.fit(x)\n",
    "k_m"
   ]
  },
  {
   "cell_type": "code",
   "execution_count": 12,
   "id": "d8578941",
   "metadata": {},
   "outputs": [
    {
     "data": {
      "text/plain": [
       "array([0, 0, 9, 9, 9, 9, 0, 0, 4, 4, 2, 5, 5, 2, 0, 0, 1, 1, 9, 4, 4, 4,\n",
       "       2, 4, 7, 9, 0, 0, 0, 0, 0, 0, 6, 6, 0, 2, 4, 4, 1, 2, 8, 1, 4, 6,\n",
       "       6, 6, 6, 6, 6, 4, 4, 4, 4, 4, 4, 4, 4, 7, 4, 4, 4, 0, 4, 4, 4, 0,\n",
       "       0, 6, 6, 6, 6, 6, 6, 6, 6, 6, 6, 6, 6, 0, 0, 0, 0, 0, 0, 0, 0, 6,\n",
       "       6, 6, 0, 0, 6, 0, 6, 0, 6, 6, 0, 0, 0, 0, 6, 0, 2, 2, 9, 5, 5, 3,\n",
       "       9, 2, 0, 4, 9, 6, 6, 6, 6, 6, 6, 6, 6, 6, 6, 6, 6, 6, 6, 6, 6, 6,\n",
       "       6, 6, 6, 6, 0, 6, 0, 6, 6])"
      ]
     },
     "execution_count": 12,
     "metadata": {},
     "output_type": "execute_result"
    }
   ],
   "source": [
    "km_predict=km.labels_\n",
    "km_predict"
   ]
  },
  {
   "cell_type": "code",
   "execution_count": 13,
   "id": "1b02fec2",
   "metadata": {},
   "outputs": [],
   "source": [
    "center_point=km.cluster_centers_"
   ]
  },
  {
   "cell_type": "code",
   "execution_count": 14,
   "id": "c6c7671e",
   "metadata": {},
   "outputs": [
    {
     "data": {
      "text/plain": [
       "(   Unnamed: 0                 item servesize calories  protien  totalfat  \\\n",
       " 0           0      McVeggie Burger      168       402    10.24     13.83   \n",
       " 1           1  McAloo Tikki Burger      146       339     8.50     11.31   \n",
       " \n",
       "    satfat  transfat  cholestrol  carbs  sugar  addedsugar  sodium     menu  \n",
       " 0    5.34      0.16        2.49  56.54   7.90        4.49  706.13  regular  \n",
       " 1    4.27      0.20        1.47   5.27   7.05        4.07  545.34  regular  ,\n",
       " mccafe        48\n",
       " regular       36\n",
       " beverage      17\n",
       " dessert       12\n",
       " gourmet       11\n",
       " condiments     9\n",
       " breakfast      8\n",
       " Name: menu, dtype: int64)"
      ]
     },
     "execution_count": 14,
     "metadata": {},
     "output_type": "execute_result"
    }
   ],
   "source": [
    "df.head(2),df['menu'].value_counts()"
   ]
  },
  {
   "cell_type": "code",
   "execution_count": 15,
   "id": "f69ddd73",
   "metadata": {},
   "outputs": [
    {
     "data": {
      "text/plain": [
       "array([0, 0, 9, 9, 9, 9, 0, 0, 4, 4, 2, 5, 5, 2, 0, 0, 1, 1, 9, 4, 4, 4,\n",
       "       2, 4, 7, 9, 0, 0, 0, 0, 0, 0, 6, 6, 0, 2, 4, 4, 1, 2, 8, 1, 4, 6,\n",
       "       6, 6, 6, 6, 6, 4, 4, 4, 4, 4, 4, 4, 4, 7, 4, 4, 4, 0, 4, 4, 4, 0,\n",
       "       0, 6, 6, 6, 6, 6, 6, 6, 6, 6, 6, 6, 6, 0, 0, 0, 0, 0, 0, 0, 0, 6,\n",
       "       6, 6, 0, 0, 6, 0, 6, 0, 6, 6, 0, 0, 0, 0, 6, 0, 2, 2, 9, 5, 5, 3,\n",
       "       9, 2, 0, 4, 9, 6, 6, 6, 6, 6, 6, 6, 6, 6, 6, 6, 6, 6, 6, 6, 6, 6,\n",
       "       6, 6, 6, 6, 0, 6, 0, 6, 6])"
      ]
     },
     "execution_count": 15,
     "metadata": {},
     "output_type": "execute_result"
    }
   ],
   "source": [
    "y=km_predict\n",
    "y"
   ]
  },
  {
   "cell_type": "code",
   "execution_count": 16,
   "id": "0fd28704",
   "metadata": {},
   "outputs": [
    {
     "data": {
      "text/plain": [
       "array([2.49, 1.47, 21.85, 40.93, 25.24, 36.19, 9.45, 5.17, 31.17, 32.83,\n",
       "       66.04, 87.63, 81.49, 47.63, 1.51, 8.74, 213.09, 213.09, 31.32,\n",
       "       31.11, 24.66, 36.99, 55.48, 30.1, 45.15, 6.7, 0.77, 1.09, 1.54,\n",
       "       0.97, 1.33, 1.84, 0.0, 6.0, 15.96, 78.52, 25.31, 37.75, 212.61,\n",
       "       53.02, 264.8, 233.3, 28.14, 0.64, 0.27, 6.27, 0.27, 0.48, 0.55,\n",
       "       21.27, 30.48, 36.55, 25.47, 31.68, 38.95, 29.07, 36.48, 42.55,\n",
       "       24.43, 29.52, 35.67, 12.27, 22.03, 24.59, 36.67, 14.73, 14.83,\n",
       "       2.79, 3.3, 4.56, 2.79, 3.3, 4.56, 2.8, 3.3, 0.46, 1.65, 1.57, 1.57,\n",
       "       12.13, 9.18, 9.42, 9.369, 8.39, 8.39, 9.89, 9.99, 0.4, 0.4, 0.0,\n",
       "       9.76, 10.89, 4.75, 5.71, 5.85, 8.55, 4.85, 6.55, 6.04, 7.78, 6.19,\n",
       "       9.23, 4.8, 8.0, 71.23, 48.74, 33.21, 73.11, 110.37, 302.61, 43.68,\n",
       "       64.19, 8.1, 20.03, 30.05, 0.0, 0.0, 0.0, 0.0, 0.0, 0.0, 0.0, 0.0,\n",
       "       0.0, 0.0, 0.0, 0.0, 4.7, 4.7, 4.7, 0.0, 0.0, 0.29, 0.25, 0.1, 0.05,\n",
       "       0.08, 0.3, 13.43, 2.0, 0.01], dtype=object)"
      ]
     },
     "execution_count": 16,
     "metadata": {},
     "output_type": "execute_result"
    }
   ],
   "source": [
    "x[:,4]"
   ]
  },
  {
   "cell_type": "code",
   "execution_count": 17,
   "id": "5f72ccad",
   "metadata": {},
   "outputs": [
    {
     "data": {
      "text/plain": [
       "array([13.83, 11.31, 15.08, 11.44, 14.02, 9.32, 10.39, 14.7, 20.77, 7.15,\n",
       "       9.79, 13.55, 17.28, 4.38, 5.96, 6.32, 4.45, 14.73, 15.01, 18.89,\n",
       "       7.44, 7.7, 3.63, 3.59, 3.57, 12.77, 7.14, 6.87, 5.45, 7.46, 5.47,\n",
       "       9.76, 6.81, 24.53, 23.45, 3.99], dtype=object)"
      ]
     },
     "execution_count": 17,
     "metadata": {},
     "output_type": "execute_result"
    }
   ],
   "source": [
    "x[y==0,1]#[centroid == regular,protien]"
   ]
  },
  {
   "cell_type": "code",
   "execution_count": 18,
   "id": "fde5026d",
   "metadata": {},
   "outputs": [
    {
     "data": {
      "image/png": "[encoded data removed]",
      "text/plain": [
       "<Figure size 1000x300 with 1 Axes>"
      ]
     },
     "metadata": {},
     "output_type": "display_data"
    }
   ],
   "source": [
    "plt.figure(figsize=(10,3))\n",
    "plt.scatter(x[y==0,0],x[y==0,1],s=150,c='red',label= 0)\n",
    "plt.scatter(x[y==1,0],x[y==1,1],s=150,c='blue',label= 1)\n",
    "plt.scatter(x[y==2,0],x[y==2,1],s=150,c='green',label= 2)\n",
    "plt.scatter(x[y==3,0],x[y==3,1],s=150,c='yellow',label= 0)\n",
    "plt.scatter(x[y==4,0],x[y==4,1],s=150,c='pink',label= 1)\n",
    "plt.scatter(x[y==5,0],x[y==5,1],s=150,c='indigo',label= 2)\n",
    "plt.scatter(x[y==6,0],x[y==6,1],s=150,c='orange',label= 2)\n",
    "plt.scatter(km.cluster_centers_[:,0],km.cluster_centers_[:,1],s=200,c='black',label='Centrods')\n",
    "plt.legend()\n",
    "plt.grid()\n",
    "plt.show()\n"
   ]
  },
  {
   "cell_type": "code",
   "execution_count": 19,
   "id": "75adc1f2",
   "metadata": {},
   "outputs": [
    {
     "data": {
      "text/plain": [
       "array([0, 0, 9, 9, 9, 9, 0, 0, 4, 4, 2, 5, 5, 2, 0, 0, 1, 1, 9, 4, 4, 4,\n",
       "       2, 4, 7, 9, 0, 0, 0, 0, 0, 0, 6, 6, 0, 2, 4, 4, 1, 2, 8, 1, 4, 6,\n",
       "       6, 6, 6, 6, 6, 4, 4, 4, 4, 4, 4, 4, 4, 7, 4, 4, 4, 0, 4, 4, 4, 0,\n",
       "       0, 6, 6, 6, 6, 6, 6, 6, 6, 6, 6, 6, 6, 0, 0, 0, 0, 0, 0, 0, 0, 6,\n",
       "       6, 6, 0, 0, 6, 0, 6, 0, 6, 6, 0, 0, 0, 0, 6, 0, 2, 2, 9, 5, 5, 3,\n",
       "       9, 2, 0, 4, 9, 6, 6, 6, 6, 6, 6, 6, 6, 6, 6, 6, 6, 6, 6, 6, 6, 6,\n",
       "       6, 6, 6, 6, 0, 6, 0, 6, 6])"
      ]
     },
     "execution_count": 19,
     "metadata": {},
     "output_type": "execute_result"
    }
   ],
   "source": [
    "km.labels_"
   ]
  },
  {
   "cell_type": "code",
   "execution_count": 20,
   "id": "78b7eb4e",
   "metadata": {},
   "outputs": [],
   "source": [
    "#hierachical clustring\n",
    "from sklearn import datasets\n",
    "from sklearn.cluster import AgglomerativeClustering\n",
    "from scipy.cluster.hierarchy import dendrogram ,linkage\n",
    "import matplotlib.pyplot as plt"
   ]
  },
  {
   "cell_type": "code",
   "execution_count": 21,
   "id": "4f3c1d65",
   "metadata": {},
   "outputs": [],
   "source": [
    "dfhc=df.values\n",
    "dfhc[:5]\n",
    "x=dfhc[:,4:9]\n",
    "y=dfhc[:,-1]"
   ]
  },
  {
   "cell_type": "code",
   "execution_count": 22,
   "id": "769bcd37",
   "metadata": {},
   "outputs": [
    {
     "data": {
      "image/png": "[encoded data removed]",
      "text/plain": [
       "<Figure size 1400x700 with 1 Axes>"
      ]
     },
     "metadata": {},
     "output_type": "display_data"
    }
   ],
   "source": [
    "linkage_matrix = linkage(x,'ward')\n",
    "plot = plt.figure(figsize=(14,7))\n",
    "dendrogram(linkage_matrix,color_threshold=0)\n",
    "plt.title('agglomerative clustering dendogram (linkage=ward)')\n",
    "plt.xlabel('simple index or (cluster size)')\n",
    "plt.ylabel('distance')\n",
    "plt.show()\n",
    "plt.show()"
   ]
  },
  {
   "cell_type": "code",
   "execution_count": 23,
   "id": "f325baeb",
   "metadata": {},
   "outputs": [],
   "source": [
    "hc= AgglomerativeClustering(linkage='ward' , n_clusters=3)"
   ]
  },
  {
   "cell_type": "code",
   "execution_count": 24,
   "id": "1a031f10",
   "metadata": {},
   "outputs": [
    {
     "data": {
      "text/plain": [
       "array([2, 2, 0, 0, 0, 0, 2, 2, 0, 0, 0, 0, 0, 0, 2, 2, 1, 1, 0, 0, 0, 0,\n",
       "       0, 0, 0, 2, 2, 2, 2, 2, 2, 2, 2, 2, 2, 0, 0, 0, 1, 0, 1, 1, 0, 2,\n",
       "       2, 2, 2, 2, 2, 0, 0, 0, 0, 0, 0, 0, 0, 0, 0, 0, 0, 2, 0, 0, 0, 2,\n",
       "       2, 2, 2, 2, 2, 2, 2, 2, 2, 2, 2, 2, 2, 2, 2, 2, 2, 2, 2, 2, 2, 2,\n",
       "       2, 2, 2, 2, 2, 2, 2, 2, 2, 2, 2, 2, 2, 2, 2, 2, 0, 0, 0, 0, 0, 1,\n",
       "       0, 0, 2, 2, 0, 2, 2, 2, 2, 2, 2, 2, 2, 2, 2, 2, 2, 2, 2, 2, 2, 2,\n",
       "       2, 2, 2, 2, 2, 2, 2, 2, 2], dtype=int64)"
      ]
     },
     "execution_count": 24,
     "metadata": {},
     "output_type": "execute_result"
    }
   ],
   "source": [
    "hc.fit(x)\n",
    "hc_labels = hc.labels_\n",
    "hc_labels"
   ]
  },
  {
   "cell_type": "code",
   "execution_count": 25,
   "id": "eeaf51db",
   "metadata": {},
   "outputs": [
    {
     "data": {
      "image/png": "[encoded data removed]",
      "text/plain": [
       "<Figure size 1400x700 with 1 Axes>"
      ]
     },
     "metadata": {},
     "output_type": "display_data"
    }
   ],
   "source": [
    "plot_2 = plt.figure(figsize=(14,7))\n",
    "dendrogram (linkage_matrix,truncate_mode='lastp',p=20,leaf_rotation=90.,leaf_font_size=12.,show_contracted=True)\n",
    "plt.title('agglomerative clustering dendogram (linkage=ward)')\n",
    "plt.xlabel('simple index or (cluster size)')\n",
    "plt.ylabel('distance')\n",
    "plt.show()"
   ]
  },
  {
   "cell_type": "code",
   "execution_count": 26,
   "id": "0b68f552",
   "metadata": {},
   "outputs": [
    {
     "data": {
      "text/plain": [
       "5    48\n",
       "6    36\n",
       "0    17\n",
       "3    12\n",
       "4    11\n",
       "2     9\n",
       "1     8\n",
       "Name: menu, dtype: int64"
      ]
     },
     "execution_count": 26,
     "metadata": {},
     "output_type": "execute_result"
    }
   ],
   "source": [
    "#qualitative into quantitive\n",
    "from sklearn.preprocessing import LabelEncoder\n",
    "le=LabelEncoder()\n",
    "df['menu']=le.fit_transform(df['menu'])\n",
    "df['menu'].value_counts()\n"
   ]
  },
  {
   "cell_type": "code",
   "execution_count": 27,
   "id": "6f6f8656",
   "metadata": {},
   "outputs": [
    {
     "data": {
      "text/plain": [
       "array([2, 2, 0, 0, 0, 0, 2, 2, 0, 0, 0, 0, 0, 0, 2, 2, 1, 1, 0, 0, 0, 0,\n",
       "       0, 0, 0, 2, 2, 2, 2, 2, 2, 2, 2, 2, 2, 0, 0, 0, 1, 0, 1, 1, 0, 2,\n",
       "       2, 2, 2, 2, 2, 0, 0, 0, 0, 0, 0, 0, 0, 0, 0, 0, 0, 2, 0, 0, 0, 2,\n",
       "       2, 2, 2, 2, 2, 2, 2, 2, 2, 2, 2, 2, 2, 2, 2, 2, 2, 2, 2, 2, 2, 2,\n",
       "       2, 2, 2, 2, 2, 2, 2, 2, 2, 2, 2, 2, 2, 2, 2, 2, 0, 0, 0, 0, 0, 1,\n",
       "       0, 0, 2, 2, 0, 2, 2, 2, 2, 2, 2, 2, 2, 2, 2, 2, 2, 2, 2, 2, 2, 2,\n",
       "       2, 2, 2, 2, 2, 2, 2, 2, 2], dtype=int64)"
      ]
     },
     "execution_count": 27,
     "metadata": {},
     "output_type": "execute_result"
    }
   ],
   "source": [
    "hc.labels_"
   ]
  },
  {
   "cell_type": "code",
   "execution_count": 35,
   "id": "e290388a",
   "metadata": {},
   "outputs": [
    {
     "data": {
      "text/plain": [
       "array([6, 6, 6, 6, 6, 6, 6, 6, 6, 6, 6, 6, 6, 6, 6, 6, 6, 6, 6, 6, 6, 6,\n",
       "       6, 6, 6, 6, 6, 6, 6, 6, 6, 6, 6, 6, 6, 6, 1, 1, 1, 1, 1, 1, 1, 1,\n",
       "       5, 5, 5, 5, 5, 5, 5, 5, 5, 5, 5, 5, 5, 5, 5, 5, 5, 5, 5, 5, 5, 5,\n",
       "       5, 5, 5, 5, 5, 5, 5, 5, 5, 5, 5, 5, 5, 5, 5, 5, 5, 5, 5, 5, 5, 5,\n",
       "       5, 5, 5, 5, 3, 3, 3, 3, 3, 3, 3, 3, 3, 3, 3, 3, 4, 4, 4, 4, 4, 4,\n",
       "       4, 4, 4, 4, 4, 0, 0, 0, 0, 0, 0, 0, 0, 0, 0, 0, 0, 0, 0, 0, 0, 0,\n",
       "       2, 2, 2, 2, 2, 2, 2, 2, 2], dtype=object)"
      ]
     },
     "execution_count": 35,
     "metadata": {},
     "output_type": "execute_result"
    }
   ],
   "source": [
    "df.values[:,-1]"
   ]
  },
  {
   "cell_type": "code",
   "execution_count": 36,
   "id": "3bcf45f9",
   "metadata": {},
   "outputs": [],
   "source": [
    "df['menu']=df['menu'].replace({6:0,1:1,5:2,3:3,4:4,0:5,2:6})\n"
   ]
  },
  {
   "cell_type": "code",
   "execution_count": 37,
   "id": "766adcc5",
   "metadata": {},
   "outputs": [
    {
     "data": {
      "text/plain": [
       "array([0, 0, 0, 0, 0, 0, 0, 0, 0, 0, 0, 0, 0, 0, 0, 0, 0, 0, 0, 0, 0, 0,\n",
       "       0, 0, 0, 0, 0, 0, 0, 0, 0, 0, 0, 0, 0, 0, 1, 1, 1, 1, 1, 1, 1, 1,\n",
       "       2, 2, 2, 2, 2, 2, 2, 2, 2, 2, 2, 2, 2, 2, 2, 2, 2, 2, 2, 2, 2, 2,\n",
       "       2, 2, 2, 2, 2, 2, 2, 2, 2, 2, 2, 2, 2, 2, 2, 2, 2, 2, 2, 2, 2, 2,\n",
       "       2, 2, 2, 2, 3, 3, 3, 3, 3, 3, 3, 3, 3, 3, 3, 3, 4, 4, 4, 4, 4, 4,\n",
       "       4, 4, 4, 4, 4, 5, 5, 5, 5, 5, 5, 5, 5, 5, 5, 5, 5, 5, 5, 5, 5, 5,\n",
       "       6, 6, 6, 6, 6, 6, 6, 6, 6], dtype=object)"
      ]
     },
     "execution_count": 37,
     "metadata": {},
     "output_type": "execute_result"
    }
   ],
   "source": [
    "df.values[:,-1]"
   ]
  },
  {
   "cell_type": "code",
   "execution_count": 38,
   "id": "b522ffcb",
   "metadata": {},
   "outputs": [
    {
     "data": {
      "text/plain": [
       "2    48\n",
       "0    36\n",
       "5    17\n",
       "3    12\n",
       "4    11\n",
       "6     9\n",
       "1     8\n",
       "Name: menu, dtype: int64"
      ]
     },
     "execution_count": 38,
     "metadata": {},
     "output_type": "execute_result"
    }
   ],
   "source": [
    "# df.describe()  # Summary statistics of the dataset\n",
    "df['menu'].value_counts()  # Count of unique values in the target column"
   ]
  },
  {
   "cell_type": "code",
   "execution_count": 41,
   "id": "f87b6af6",
   "metadata": {},
   "outputs": [],
   "source": [
    "# import seaborn as sns\n",
    "# from sklearn.metrics import confusion_matrix, accuracy_score, classification_report\n",
    "# true_labels = df.values[:, -1].astype(int)\n",
    "# cm = confusion_matrix(true_labels, hc.labels_)\n",
    "# cm=confusion_matrix(df.values[:,-1],hc.labels_)\n",
    "# print(accuracy_score(df.values[:,-1],hc.labels_))\n",
    "# print(classification_report(df.values[:,-1],hc.labels_))\n",
    "# plt.figure(figsize=(2,2))\n",
    "# sns.heatmap(cm,annot=True)\n",
    "# plt.xlabel('actual')\n",
    "# plt.ylabel('predicted')\n",
    "# plt.show()\n",
    "# import pandas as pd\n",
    "# kmp=pd.crosstab(df.values[:,-1],hc.labels_)\n",
    "# print(kmp)"
   ]
  },
  {
   "cell_type": "code",
   "execution_count": 42,
   "id": "cf87ad70",
   "metadata": {},
   "outputs": [
    {
     "name": "stdout",
     "output_type": "stream",
     "text": [
      "0.3829787234042553\n",
      "              precision    recall  f1-score   support\n",
      "\n",
      "           0       0.40      0.50      0.44        36\n",
      "           1       0.50      0.38      0.43         8\n",
      "           2       0.37      0.69      0.48        48\n",
      "           3       0.00      0.00      0.00        12\n",
      "           4       0.00      0.00      0.00        11\n",
      "           5       0.00      0.00      0.00        17\n",
      "           6       0.00      0.00      0.00         9\n",
      "\n",
      "    accuracy                           0.38       141\n",
      "   macro avg       0.18      0.22      0.19       141\n",
      "weighted avg       0.26      0.38      0.30       141\n",
      "\n"
     ]
    },
    {
     "name": "stderr",
     "output_type": "stream",
     "text": [
      "C:\\ProgramData\\anaconda3\\lib\\site-packages\\sklearn\\metrics\\_classification.py:1344: UndefinedMetricWarning: Precision and F-score are ill-defined and being set to 0.0 in labels with no predicted samples. Use `zero_division` parameter to control this behavior.\n",
      "  _warn_prf(average, modifier, msg_start, len(result))\n",
      "C:\\ProgramData\\anaconda3\\lib\\site-packages\\sklearn\\metrics\\_classification.py:1344: UndefinedMetricWarning: Precision and F-score are ill-defined and being set to 0.0 in labels with no predicted samples. Use `zero_division` parameter to control this behavior.\n",
      "  _warn_prf(average, modifier, msg_start, len(result))\n",
      "C:\\ProgramData\\anaconda3\\lib\\site-packages\\sklearn\\metrics\\_classification.py:1344: UndefinedMetricWarning: Precision and F-score are ill-defined and being set to 0.0 in labels with no predicted samples. Use `zero_division` parameter to control this behavior.\n",
      "  _warn_prf(average, modifier, msg_start, len(result))\n"
     ]
    },
    {
     "data": {
      "image/png": "[encoded data removed]",
      "text/plain": [
       "<Figure size 200x200 with 2 Axes>"
      ]
     },
     "metadata": {},
     "output_type": "display_data"
    },
    {
     "name": "stdout",
     "output_type": "stream",
     "text": [
      "col_0   0  1   2\n",
      "row_0           \n",
      "0      18  2  16\n",
      "1       4  3   1\n",
      "2      15  0  33\n",
      "3       0  0  12\n",
      "4       8  1   2\n",
      "5       0  0  17\n",
      "6       0  0   9\n"
     ]
    }
   ],
   "source": [
    "import seaborn as sns\n",
    "from sklearn.metrics import confusion_matrix, accuracy_score, classification_report\n",
    "\n",
    "true_labels = df.values[:, -1].astype(int)\n",
    "cm = confusion_matrix(true_labels, hc.labels_)\n",
    "print(accuracy_score(true_labels, hc.labels_))\n",
    "print(classification_report(true_labels, hc.labels_))\n",
    "\n",
    "plt.figure(figsize=(2, 2))\n",
    "sns.heatmap(cm, annot=True)\n",
    "plt.xlabel('actual')\n",
    "plt.ylabel('predicted')\n",
    "plt.show()\n",
    "\n",
    "import pandas as pd\n",
    "kmp = pd.crosstab(true_labels, hc.labels_)\n",
    "print(kmp)"
   ]
  },
  {
   "cell_type": "code",
   "execution_count": null,
   "id": "92a1afcc",
   "metadata": {},
   "outputs": [],
   "source": []
  },
  {
   "cell_type": "code",
   "execution_count": null,
   "id": "a0294fc3",
   "metadata": {},
   "outputs": [],
   "source": []
  }
 ],
 "metadata": {
  "kernelspec": {
   "display_name": "Python 3 (ipykernel)",
   "language": "python",
   "name": "python3"
  },
  "language_info": {
   "codemirror_mode": {
    "name": "ipython",
    "version": 3
   },
   "file_extension": ".py",
   "mimetype": "text/x-python",
   "name": "python",
   "nbconvert_exporter": "python",
   "pygments_lexer": "ipython3",
   "version": "3.10.9"
  }
 },
 "nbformat": 4,
 "nbformat_minor": 5
}
